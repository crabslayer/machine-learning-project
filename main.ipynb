{
 "cells": [
  {
   "cell_type": "code",
   "execution_count": null,
   "metadata": {
    "vscode": {
     "languageId": "plaintext"
    }
   },
   "outputs": [],
   "source": [
    "import pandas as pd\n",
    "steam_requirements_data = pd.read_csv('steam_requirements_data.csv', encoding='latin-1')\n",
    "steamspy_tag_data = pd.read_csv('steamspy_tag_data.csv')\n",
    "steam_data = pd.read_csv('steam.csv')\n",
    "\n",
    "datasets_overview = {\n",
    "    \"steam_requirements_data\": steam_requirements_data.head(),\n",
    "    \"steamspy_tag_data\": steamspy_tag_data.head(),\n",
    "    \"steam_data\": steam_data.head()\n",
    "}\n",
    "datasets_overview"
   ]
  },
  {
   "cell_type": "code",
   "execution_count": null,
   "metadata": {
    "vscode": {
     "languageId": "plaintext"
    }
   },
   "outputs": [],
   "source": [
    "column_names = {\n",
    "    \"steam_data\": steam_data.columns.tolist(),\n",
    "    \"steamspy_tag_data\": steamspy_tag_data.columns.tolist(),\n",
    "    \"steam_requirements_data\": steam_requirements_data.columns.tolist(),\n",
    "}\n",
    "column_names"
   ]
  },
  {
   "cell_type": "code",
   "execution_count": null,
   "metadata": {
    "vscode": {
     "languageId": "plaintext"
    }
   },
   "outputs": [],
   "source": [
    "merged_df = pd.merge(\n",
    "    steam_data,\n",
    "    steamspy_tag_data,\n",
    "    on='appid',\n",
    "    how='left',\n",
    "    suffixes=('', '_tags')\n",
    ")\n",
    "\n",
    "# Second merge: add requirements data\n",
    "final_merged_df = pd.merge(\n",
    "    merged_df,\n",
    "    steam_requirements_data,\n",
    "    on='appid',\n",
    "    how='left',\n",
    "    suffixes=('', '_req')\n",
    ")\n",
    "\n",
    "# Check for any missing values after merge\n",
    "missing_values = final_merged_df.isnull().sum()\n",
    "print(\"\\nMissing values in merged dataset:\")\n",
    "print(missing_values[missing_values > 0])\n",
    "\n",
    "# Save the merged dataset\n",
    "final_merged_df.to_csv('merged_steam_data.csv', index=False)\n",
    "print(\"\\nMerged dataset has been saved as 'merged_steam_data.csv'\")\n",
    "\n",
    "# Print final dataset size\n",
    "print(f\"\\nFinal merged dataset rows: {len(final_merged_df)}\")"
   ]
  },
  {
   "cell_type": "code",
   "execution_count": null,
   "metadata": {
    "vscode": {
     "languageId": "plaintext"
    }
   },
   "outputs": [],
   "source": [
    "import pandas as pd\n",
    "import numpy as np\n",
    "from sklearn.model_selection import train_test_split, cross_val_score\n",
    "from sklearn.preprocessing import StandardScaler, OneHotEncoder\n",
    "from sklearn.compose import ColumnTransformer\n",
    "from sklearn.pipeline import Pipeline\n",
    "from sklearn.ensemble import RandomForestRegressor\n",
    "from sklearn.linear_model import LinearRegression\n",
    "from sklearn.neural_network import MLPRegressor\n",
    "from sklearn.metrics import mean_squared_error, r2_score\n",
    "import tensorflow as tf\n",
    "from datetime import datetime\n",
    "\n",
    "# Load the merged dataset\n",
    "df = pd.read_csv('merged_steam_data.csv', encoding='latin-1')\n",
    "\n",
    "# Data Preprocessing\n",
    "def prepare_features(df):\n",
    "    # Convert release_date to datetime features\n",
    "    df['release_date'] = pd.to_datetime(df['release_date'])\n",
    "    df['release_year'] = df['release_date'].dt.year\n",
    "    df['release_month'] = df['release_date'].dt.month\n",
    "\n",
    "    # Create price categories\n",
    "    df['price_category'] = pd.qcut(df['price'], q=5, labels=['very_low', 'low', 'medium', 'high', 'very_high'])\n",
    "\n",
    "    # Calculate total ratings\n",
    "    df['total_ratings'] = df['positive_ratings'] + df['negative_ratings']\n",
    "    df['rating_ratio'] = df['positive_ratings'] / df['total_ratings']\n",
    "\n",
    "    # Select features for prediction\n",
    "    features = [\n",
    "        'price', 'release_year', 'release_month', 'required_age',\n",
    "        'achievements', 'average_playtime', 'median_playtime',\n",
    "        'rating_ratio', 'total_ratings'\n",
    "    ]\n",
    "\n",
    "    # Add categorical features\n",
    "    categorical_features = ['developer', 'publisher', 'price_category']\n",
    "\n",
    "    return df[features + categorical_features]\n",
    "\n",
    "# Prepare the data\n",
    "X = prepare_features(df)\n",
    "y = df['positive_ratings']\n",
    "\n",
    "# Split the data\n",
    "X_train, X_test, y_train, y_test = train_test_split(X, y, test_size=0.2, random_state=42)\n",
    "\n",
    "# Create preprocessing pipelines\n",
    "numeric_features = X.select_dtypes(include=['int64', 'float64']).columns\n",
    "categorical_features = X.select_dtypes(include=['object']).columns\n",
    "\n",
    "preprocessor = ColumnTransformer(\n",
    "    transformers=[\n",
    "        ('num', StandardScaler(), numeric_features),\n",
    "        ('cat', OneHotEncoder(handle_unknown='ignore'), categorical_features)\n",
    "    ])"
   ]
  },
  {
   "cell_type": "code",
   "execution_count": null,
   "metadata": {
    "vscode": {
     "languageId": "plaintext"
    }
   },
   "outputs": [],
   "source": [
    "# 1. Random Forest Model\n",
    "rf_pipeline = Pipeline([\n",
    "    ('preprocessor', preprocessor),\n",
    "    ('regressor', RandomForestRegressor(n_estimators=100, random_state=42))\n",
    "])\n",
    "\n",
    "rf_pipeline.fit(X_train, y_train)\n",
    "rf_pred = rf_pipeline.predict(X_test)\n",
    "rf_r2 = r2_score(y_test, rf_pred)\n",
    "rf_rmse = np.sqrt(mean_squared_error(y_test, rf_pred))"
   ]
  },
  {
   "cell_type": "code",
   "execution_count": null,
   "metadata": {
    "vscode": {
     "languageId": "plaintext"
    }
   },
   "outputs": [],
   "source": [
    "# 2. Multiple Linear Regression\n",
    "lr_pipeline = Pipeline([\n",
    "    ('preprocessor', preprocessor),\n",
    "    ('regressor', LinearRegression())\n",
    "])\n",
    "\n",
    "lr_pipeline.fit(X_train, y_train)\n",
    "lr_pred = lr_pipeline.predict(X_test)\n",
    "lr_r2 = r2_score(y_test, lr_pred)\n",
    "lr_rmse = np.sqrt(mean_squared_error(y_test, lr_pred))"
   ]
  },
  {
   "cell_type": "code",
   "execution_count": null,
   "metadata": {
    "vscode": {
     "languageId": "plaintext"
    }
   },
   "outputs": [],
   "source": [
    "# 3. Neural Network (Using MLPRegressor for simplicity)\n",
    "nn_pipeline = Pipeline([\n",
    "    ('preprocessor', preprocessor),\n",
    "    ('regressor', MLPRegressor(hidden_layer_sizes=(100, 50), max_iter=500, random_state=42))\n",
    "])\n",
    "\n",
    "nn_pipeline.fit(X_train, y_train)\n",
    "nn_pred = nn_pipeline.predict(X_test)\n",
    "nn_r2 = r2_score(y_test, nn_pred)\n",
    "nn_rmse = np.sqrt(mean_squared_error(y_test, nn_pred))"
   ]
  },
  {
   "cell_type": "code",
   "execution_count": null,
   "metadata": {
    "vscode": {
     "languageId": "plaintext"
    }
   },
   "outputs": [],
   "source": [
    "# Print results\n",
    "print(\"\\nModel Performance Comparison:\")\n",
    "print(\"-\" * 50)\n",
    "print(f\"Random Forest R² Score: {rf_r2:.4f}\")\n",
    "print(f\"Random Forest RMSE: {rf_rmse:.2f}\")\n",
    "print(\"-\" * 50)\n",
    "print(f\"Linear Regression R² Score: {lr_r2:.4f}\")\n",
    "print(f\"Linear Regression RMSE: {lr_rmse:.2f}\")\n",
    "print(\"-\" * 50)\n",
    "print(f\"Neural Network R² Score: {nn_r2:.4f}\")\n",
    "print(f\"Neural Network RMSE: {nn_rmse:.2f}\")"
   ]
  },
  {
   "cell_type": "code",
   "execution_count": null,
   "metadata": {
    "vscode": {
     "languageId": "plaintext"
    }
   },
   "outputs": [],
   "source": [
    "import matplotlib.pyplot as plt\n",
    "import numpy as np\n",
    "models = ['Random Forest', 'Linear Regression', 'Neural Network']\n",
    "\n",
    "# R² scores and RMSE values\n",
    "r2_scores = [rf_r2, lr_r2, nn_r2]\n",
    "rmse_values = [rf_rmse, lr_rmse, nn_rmse]\n",
    "\n",
    "# Create subplots\n",
    "fig, (ax1, ax2) = plt.subplots(1, 2, figsize=(12, 6))  # 1 row, 2 columns\n",
    "\n",
    "# Plot R² scores on the first subplot\n",
    "ax1.bar(models, r2_scores, color=['blue', 'green', 'red'])\n",
    "ax1.set_title('Model Performance Comparison: R² Score')\n",
    "ax1.set_ylabel('R² Score')\n",
    "ax1.set_ylim(0, 1)  # Set y-axis limits for R² score (0 to 1)\n",
    "\n",
    "# Plot RMSE values on the second subplot\n",
    "ax2.bar(models, rmse_values, color=['blue', 'green', 'red'])\n",
    "ax2.set_title('Model Performance Comparison: RMSE')\n",
    "ax2.set_ylabel('RMSE')\n",
    "\n",
    "# Adjust layout\n",
    "plt.tight_layout()\n",
    "\n",
    "# Display the chart\n",
    "plt.show()\n",
    "#finish"
   ]
  }
 ],
 "metadata": {
  "language_info": {
   "name": "python"
  }
 },
 "nbformat": 4,
 "nbformat_minor": 2
}
